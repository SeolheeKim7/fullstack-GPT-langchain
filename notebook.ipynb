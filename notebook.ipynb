{
 "cells": [
  {
   "cell_type": "code",
   "execution_count": 1,
   "metadata": {},
   "outputs": [
    {
     "data": {
      "text/plain": [
       "AIMessage(content=\"Seolhee Kim is a dedicated and detail-oriented IT Application Developer. She has a strong educational background, having graduated from Niagara College's Computer Programming and Analysis program. Seolhee has a solid command of both front-end and back-end programming, as well as computer science concepts. She has received recognition for her outstanding academic performance and has successfully completed various projects, including an inventory application chosen by CAA and a web-based dashboard for a client.\\n\\nSeolhee is an active collaborator and enjoys sharing her ideas and incorporating new solutions to challenges. She has developed problem-solving skills and actively contributes to group projects using GitHub. She is also involved in the tech community as a Microsoft Student Ambassador and has volunteered to teach Korean utilizing AI software at Niagara Korean School. Seolhee's time management and organizational skills allow her to effectively manage multiple projects without compromising quality.\\n\\nOverall, Seolhee is highly motivated and passionate about her work. She is eager to apply her skills and contribute to the Niagara Catholic District School Board as an IT Application Developer.\")"
      ]
     },
     "execution_count": 1,
     "metadata": {},
     "output_type": "execute_result"
    }
   ],
   "source": [
    "from langchain.chat_models import ChatOpenAI\n",
    "from langchain.document_loaders import UnstructuredFileLoader\n",
    "from langchain.text_splitter import CharacterTextSplitter\n",
    "from langchain.embeddings import OpenAIEmbeddings, CacheBackedEmbeddings\n",
    "from langchain.vectorstores import FAISS\n",
    "from langchain.storage import LocalFileStore\n",
    "from langchain.prompts  import ChatPromptTemplate\n",
    "from langchain.schema.runnable import RunnablePassthrough\n",
    "\n",
    "llm = ChatOpenAI(\n",
    "    temperature = 0.1,\n",
    "\n",
    ")\n",
    "\n",
    "cache_dir = LocalFileStore(\"./.cache/\")\n",
    "\n",
    "splitter = CharacterTextSplitter.from_tiktoken_encoder(\n",
    "    separator=\"\\n\",\n",
    "    chunk_size=600,\n",
    "    chunk_overlap=100,\n",
    ")\n",
    "loader = UnstructuredFileLoader(\"./files/chapter_one.txt\")\n",
    "\n",
    "docs = loader.load_and_split(text_splitter=splitter)\n",
    "\n",
    "embeddings = OpenAIEmbeddings()\n",
    "\n",
    "cached_embeddings = CacheBackedEmbeddings.from_bytes_store(embeddings, cache_dir)\n",
    "\n",
    "vectorstore = FAISS.from_documents(docs, cached_embeddings)\n",
    "\n",
    "retriever = vectorstore.as_retriever()\n",
    "\n",
    "prompt = ChatPromptTemplate.from_messages([\n",
    "    (\"system\",\"You are a helpful assistant. Answer questions usting only the following context. If you don't know the answer just say you don't know, don't make it up:\\n{context}\"),\n",
    "    (\"human\", \"{question}\")\n",
    "])\n",
    "\n",
    "chain = {\"context\":retriever, \"question\": RunnablePassthrough()} | prompt |  llm\n",
    "\n",
    "chain.invoke(\"Describe Seolhee\")"
   ]
  }
 ],
 "metadata": {
  "kernelspec": {
   "display_name": "env",
   "language": "python",
   "name": "python3"
  },
  "language_info": {
   "codemirror_mode": {
    "name": "ipython",
    "version": 3
   },
   "file_extension": ".py",
   "mimetype": "text/x-python",
   "name": "python",
   "nbconvert_exporter": "python",
   "pygments_lexer": "ipython3",
   "version": "3.11.6"
  }
 },
 "nbformat": 4,
 "nbformat_minor": 2
}
