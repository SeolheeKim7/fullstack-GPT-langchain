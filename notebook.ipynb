{
 "cells": [
  {
   "cell_type": "code",
   "execution_count": 20,
   "metadata": {},
   "outputs": [
    {
     "data": {
      "text/plain": [
       "'The distance between the United States and Canada varies depending on the specific locations being compared. The shortest distance between the two countries is approximately 8 kilometers (5 miles) between the Northwest Angle Inlet in Minnesota, USA, and the Elm Point in Manitoba, Canada. However, if we consider the distance between major cities, for example, New York City, USA, and Toronto, Canada, the distance is approximately 550 kilometers (340 miles).\\n\\nAs an AI language model developed by OpenAI, I don\\'t have a personal name. You can simply refer to me as \"ChatGPT.\" How can I assist you today?'"
      ]
     },
     "execution_count": 20,
     "metadata": {},
     "output_type": "execute_result"
    }
   ],
   "source": [
    "from langchain.chat_models import ChatOpenAI\n",
    "from langchain.prompts import PromptTemplate, ChatPromptTemplate\n",
    "chat = ChatOpenAI(\n",
    "    temperature = 0.1\n",
    ")\n",
    "template = PromptTemplate.from_template(\n",
    "    \"What is the distance between {country_a} and {country_b}? Also what is your name?\"\n",
    ")\n",
    "prompt=template.format(country_a=\"USA\", country_b=\"Canada\")\n",
    "\n",
    "chat.predict(prompt)\n"
   ]
  },
  {
   "cell_type": "code",
   "execution_count": 21,
   "metadata": {},
   "outputs": [
    {
     "data": {
      "text/plain": [
       "AIMessage(content='안녕하세요! 저는 지리 전문가입니다. 미국과 캐나다 사이의 거리는 다양합니다. 예를 들어, 뉴욕과 토론토 사이의 거리는 약 550 킬로미터입니다. 제 이름은 OpenAI Assistant입니다. 무엇을 도와드릴까요?')"
      ]
     },
     "execution_count": 21,
     "metadata": {},
     "output_type": "execute_result"
    }
   ],
   "source": [
    "\n",
    "template = ChatPromptTemplate.from_messages([\n",
    "    (\"system\",\"You are a geography expert. And you only reply in {language}.\"\n",
    "        ),\n",
    "    (\"ai\",\"Ciao! mi chiamo {name}!\"\n",
    "        ),\n",
    "    (\"human\",\"What is the distance between {country_a} and {country_b}? Also what is your name?\")\n",
    "    \n",
    "])\n",
    "\n",
    "prompt=template.format_messages(language=\"Korean\", name=\"Giovanni\", country_a=\"USA\", country_b=\"Canada\")\n",
    "\n",
    "chat.predict_messages(prompt)"
   ]
  },
  {
   "cell_type": "code",
   "execution_count": 22,
   "metadata": {},
   "outputs": [
    {
     "data": {
      "text/plain": [
       "['Hello', 'how', 'are', 'you']"
      ]
     },
     "execution_count": 22,
     "metadata": {},
     "output_type": "execute_result"
    }
   ],
   "source": [
    "from langchain.schema import BaseOutputParser\n",
    "\n",
    "class CommaOutputParser(BaseOutputParser):\n",
    "    def parse(self, text):\n",
    "        items = text.strip().split(\",\")\n",
    "        return list(map(str.strip, items))\n",
    "    \n",
    "p = CommaOutputParser()\n",
    "p.parse(\"Hello, how, are, you\")"
   ]
  },
  {
   "cell_type": "code",
   "execution_count": 27,
   "metadata": {},
   "outputs": [],
   "source": [
    "template = ChatPromptTemplate.from_messages(\n",
    "    [\n",
    "        (\"system\",\n",
    "         \"You are a list generating machine. Everyting you are asked will be answered with a comma separated list of max {max_items}. Do NOT reply with anything else.\",\n",
    "        ),\n",
    "        (\"human\",\"{question}\"),\n",
    "    ]\n",
    ")\n",
    "\n"
   ]
  },
  {
   "cell_type": "code",
   "execution_count": 29,
   "metadata": {},
   "outputs": [
    {
     "data": {
      "text/plain": [
       "['Pikachu', 'Charizard', 'Bulbasaur', 'Squirtle', 'Jigglypuff']"
      ]
     },
     "execution_count": 29,
     "metadata": {},
     "output_type": "execute_result"
    }
   ],
   "source": [
    "chain = template | chat | CommaOutputParser()\n",
    "\n",
    "chain.invoke({\"max_items\":5, \"question\":\"What are the pokemons?\"})"
   ]
  }
 ],
 "metadata": {
  "kernelspec": {
   "display_name": "env",
   "language": "python",
   "name": "python3"
  },
  "language_info": {
   "codemirror_mode": {
    "name": "ipython",
    "version": 3
   },
   "file_extension": ".py",
   "mimetype": "text/x-python",
   "name": "python",
   "nbconvert_exporter": "python",
   "pygments_lexer": "ipython3",
   "version": "3.11.6"
  }
 },
 "nbformat": 4,
 "nbformat_minor": 2
}
